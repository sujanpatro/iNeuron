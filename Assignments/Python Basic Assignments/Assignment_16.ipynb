{
 "cells": [
  {
   "cell_type": "code",
   "execution_count": 2,
   "metadata": {},
   "outputs": [
    {
     "data": {
      "text/plain": [
       "[2000, 2001, 2002, 2003, 2004, 2005]"
      ]
     },
     "execution_count": 2,
     "metadata": {},
     "output_type": "execute_result"
    }
   ],
   "source": [
    "years = []\n",
    "birth_year = 2000\n",
    "for i in range(6):\n",
    "    years.append(birth_year + i)\n",
    "years"
   ]
  },
  {
   "cell_type": "code",
   "execution_count": 6,
   "metadata": {},
   "outputs": [
    {
     "name": "stdout",
     "output_type": "stream",
     "text": [
      "2003\n"
     ]
    }
   ],
   "source": [
    "third_birthday = years[3]\n",
    "print(third_birthday)"
   ]
  },
  {
   "cell_type": "code",
   "execution_count": 8,
   "metadata": {},
   "outputs": [
    {
     "name": "stdout",
     "output_type": "stream",
     "text": [
      "2005\n"
     ]
    }
   ],
   "source": [
    "oldest_at = years[-1]\n",
    "print(oldest_at)"
   ]
  },
  {
   "cell_type": "code",
   "execution_count": 35,
   "metadata": {},
   "outputs": [
    {
     "name": "stdout",
     "output_type": "stream",
     "text": [
      "CINDERELLA\n",
      "Yes it changes the element in the list\n"
     ]
    }
   ],
   "source": [
    "things = ['mozzarella', 'cinderella', 'salmonella']\n",
    "person = ['cinderella']\n",
    "for i in person:\n",
    "    if i in things:\n",
    "        x = things.index(i)\n",
    "        things[x] = things[x].upper()\n",
    "print(things[x])\n",
    "if things[x] == things[x].upper():\n",
    "    print('Yes it changes the element in the list')\n",
    "else:\n",
    "    print('No, it doesn\\'n change the element in the list')"
   ]
  },
  {
   "cell_type": "code",
   "execution_count": null,
   "metadata": {},
   "outputs": [],
   "source": []
  },
  {
   "cell_type": "code",
   "execution_count": 34,
   "metadata": {},
   "outputs": [
    {
     "name": "stdout",
     "output_type": "stream",
     "text": [
      "Oprah\n"
     ]
    }
   ],
   "source": [
    "surprise = ['Groucho', 'Chico', 'Harpo']\n",
    "surprise[-1] = surprise[-1].lower()[::-1].capitalize()\n",
    "print(surprise[-1])"
   ]
  },
  {
   "cell_type": "code",
   "execution_count": null,
   "metadata": {},
   "outputs": [],
   "source": []
  },
  {
   "cell_type": "code",
   "execution_count": 48,
   "metadata": {},
   "outputs": [
    {
     "name": "stdout",
     "output_type": "stream",
     "text": [
      "french for walrus is morse\n",
      "{'chien': 'dog', 'chat': 'cat', 'morse': 'walrus'}\n",
      "{'walrus', 'dog', 'cat'}\n"
     ]
    }
   ],
   "source": [
    "etf = {'dog': 'chien', 'cat': 'chat', 'walrus': 'morse'}\n",
    "print('french for walrus is ' + etf['walrus'])\n",
    "\n",
    "fte = {}\n",
    "for key, value in etf.items():\n",
    "    fte[value] = key\n",
    "print(fte)\n",
    "\n",
    "english_words = set(etf.keys())\n",
    "print(english_words)"
   ]
  },
  {
   "cell_type": "code",
   "execution_count": null,
   "metadata": {},
   "outputs": [],
   "source": []
  },
  {
   "cell_type": "code",
   "execution_count": 55,
   "metadata": {},
   "outputs": [
    {
     "name": "stdout",
     "output_type": "stream",
     "text": [
      "dict_keys(['animals', 'plants', 'other'])\n",
      "dict_keys(['cats', 'octopi', 'emus'])\n",
      "['Henri', 'Grumpy', 'Lucy']\n"
     ]
    }
   ],
   "source": [
    "life = {\n",
    "    'animals':{\n",
    "        'cats': ['Henri', 'Grumpy', 'Lucy'],\n",
    "        'octopi': {},\n",
    "        'emus': {},\n",
    "    },\n",
    "    'plants': {},\n",
    "    'other': {},\n",
    "}\n",
    "\n",
    "#top level keys of life\n",
    "print(life.keys())\n",
    "\n",
    "#keys for life['animals']\n",
    "print(life['animals'].keys())\n",
    "\n",
    "#values for life['animals']['cats']\n",
    "print(life['animals']['cats'])"
   ]
  },
  {
   "cell_type": "code",
   "execution_count": null,
   "metadata": {},
   "outputs": [],
   "source": []
  },
  {
   "cell_type": "code",
   "execution_count": null,
   "metadata": {},
   "outputs": [],
   "source": []
  }
 ],
 "metadata": {
  "kernelspec": {
   "display_name": "Python 3",
   "language": "python",
   "name": "python3"
  },
  "language_info": {
   "codemirror_mode": {
    "name": "ipython",
    "version": 3
   },
   "file_extension": ".py",
   "mimetype": "text/x-python",
   "name": "python",
   "nbconvert_exporter": "python",
   "pygments_lexer": "ipython3",
   "version": "3.8.5"
  }
 },
 "nbformat": 4,
 "nbformat_minor": 4
}
