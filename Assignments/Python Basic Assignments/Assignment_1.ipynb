{
 "cells": [
  {
   "cell_type": "code",
   "execution_count": null,
   "metadata": {},
   "outputs": [],
   "source": [
    "# 1.\n",
    "\n",
    "# *          : expression\n",
    "# 'hello'    : value\n",
    "# -87.8      : value\n",
    "# -          : expression\n",
    "# /          : expression \n",
    "# +          : expression\n",
    "# 6          : values"
   ]
  },
  {
   "cell_type": "code",
   "execution_count": null,
   "metadata": {},
   "outputs": [],
   "source": []
  },
  {
   "cell_type": "code",
   "execution_count": 1,
   "metadata": {},
   "outputs": [],
   "source": [
    "# 2.\n",
    "\n",
    "# String is an array of bytes, representing unicode characters. String is a type of information, that will need variables to store.\n",
    "# Whereas, a variable is a store of information. Variable can be of any type, string, float, list, integer, etc."
   ]
  },
  {
   "cell_type": "code",
   "execution_count": null,
   "metadata": {},
   "outputs": [],
   "source": []
  },
  {
   "cell_type": "code",
   "execution_count": 2,
   "metadata": {},
   "outputs": [],
   "source": [
    "# 3.\n",
    "\n",
    "# (i)   Text-type: it is a datatype that represents unicode characters. str is a text-type datatype\n",
    "# (ii)  Numeric-type: this datatype represents mathematical numbers. int & float are numeric-type datatypes\n",
    "# (iii) boolean - it is a datatype that has only 2 possibilities. True or False. Bool is a boolean type datatype"
   ]
  },
  {
   "cell_type": "code",
   "execution_count": null,
   "metadata": {},
   "outputs": [],
   "source": []
  },
  {
   "cell_type": "code",
   "execution_count": 3,
   "metadata": {},
   "outputs": [],
   "source": [
    "# 4.\n",
    "\n",
    "# An expression is a well-defined combination of values, operators, variables, function calls, etc.\n",
    "# Expressions are unsolved equations for a compiler. When asked to print an expression, the computer will calculate/solve the\n",
    "# expression and produce a single value as the result. Expressions instruct the computer to do what type of calculation to\n",
    "# get the desired output."
   ]
  },
  {
   "cell_type": "code",
   "execution_count": null,
   "metadata": {},
   "outputs": [],
   "source": []
  },
  {
   "cell_type": "code",
   "execution_count": 4,
   "metadata": {},
   "outputs": [],
   "source": [
    "# 5.\n",
    "\n",
    "# the element in a program that itself gets evaluated to some value is an expression.\n",
    "# the element in a program that does does something is a statement"
   ]
  },
  {
   "cell_type": "code",
   "execution_count": null,
   "metadata": {},
   "outputs": [],
   "source": []
  },
  {
   "cell_type": "code",
   "execution_count": 5,
   "metadata": {},
   "outputs": [],
   "source": [
    "# 6.\n",
    "\n",
    "# bacon = 22               -this is an assignment statement, hence bacon's value is changed to 22\n",
    "# bacon + 1                -this is an expression, so, bacon+1 value is 23, but the value of bacon is not changed.\n",
    "# hence, after these 2 above lines, value of bacon remains 22"
   ]
  },
  {
   "cell_type": "code",
   "execution_count": null,
   "metadata": {},
   "outputs": [],
   "source": []
  },
  {
   "cell_type": "code",
   "execution_count": 6,
   "metadata": {},
   "outputs": [],
   "source": [
    "# 7.\n",
    "\n",
    "# 'spam' + 'spamspam'         -its value is 'spamspamspam'\n",
    "# 'spam'*3                    -its value is also 'spamspamspam'"
   ]
  },
  {
   "cell_type": "code",
   "execution_count": null,
   "metadata": {},
   "outputs": [],
   "source": []
  },
  {
   "cell_type": "code",
   "execution_count": 7,
   "metadata": {},
   "outputs": [],
   "source": [
    "# 8.\n",
    "\n",
    "# eggs is a valid variable name, because it doesn't has a reserved value in the system.\n",
    "# but 100 has a reserved value in the system, i.e. numerical 100 value. so it can't be assigned for any other value."
   ]
  },
  {
   "cell_type": "code",
   "execution_count": null,
   "metadata": {},
   "outputs": [],
   "source": []
  },
  {
   "cell_type": "code",
   "execution_count": 8,
   "metadata": {},
   "outputs": [],
   "source": [
    "# 9.\n",
    "\n",
    "# let's say, the value is 'x'\n",
    "# to get the integer - int(x)\n",
    "# to get the flaot   - float(x)\n",
    "# to get the string  - string(x)"
   ]
  },
  {
   "cell_type": "code",
   "execution_count": null,
   "metadata": {},
   "outputs": [],
   "source": []
  },
  {
   "cell_type": "code",
   "execution_count": null,
   "metadata": {},
   "outputs": [],
   "source": [
    "# 10.\n",
    "\n",
    "# 'I have eaten' + 99 + 'burritos'\n",
    "# this causes an error, because the expression '+' can work with similar datatypes only.\n",
    "# Here, 'I have eaten' is a string type, 99 is integer type, and 'burritos' is a string type.\n",
    "# So, we need either 3 strings, or 3 integers.\n",
    "# Here, we can rectify the error, by making 99 a string value, i.e. by making 99 as str(99)\n",
    "# Hence, final expression:\n",
    "# 'I have eaten' + str(99) + 'burritos'"
   ]
  }
 ],
 "metadata": {
  "kernelspec": {
   "display_name": "Python 3",
   "language": "python",
   "name": "python3"
  },
  "language_info": {
   "codemirror_mode": {
    "name": "ipython",
    "version": 3
   },
   "file_extension": ".py",
   "mimetype": "text/x-python",
   "name": "python",
   "nbconvert_exporter": "python",
   "pygments_lexer": "ipython3",
   "version": "3.8.5"
  }
 },
 "nbformat": 4,
 "nbformat_minor": 4
}
